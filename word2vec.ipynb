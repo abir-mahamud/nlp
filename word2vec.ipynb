{
  "nbformat": 4,
  "nbformat_minor": 0,
  "metadata": {
    "colab": {
      "name": "word2vec",
      "provenance": [],
      "authorship_tag": "ABX9TyMP2g3k8poi53h0aVIH62eg",
      "include_colab_link": true
    },
    "kernelspec": {
      "name": "python3",
      "display_name": "Python 3"
    }
  },
  "cells": [
    {
      "cell_type": "markdown",
      "metadata": {
        "id": "view-in-github",
        "colab_type": "text"
      },
      "source": [
        "<a href=\"https://colab.research.google.com/github/abir-mahamud/nlp/blob/main/word2vec.ipynb\" target=\"_parent\"><img src=\"https://colab.research.google.com/assets/colab-badge.svg\" alt=\"Open In Colab\"/></a>"
      ]
    },
    {
      "cell_type": "code",
      "metadata": {
        "colab": {
          "base_uri": "https://localhost:8080/"
        },
        "id": "XC0A1uwUtAS7",
        "outputId": "1c81b7bb-05be-4de6-f4df-a127c7cc2e07"
      },
      "source": [
        "import nltk\n",
        "nltk.download('punkt')\n",
        "nltk.download('stopwords')"
      ],
      "execution_count": 2,
      "outputs": [
        {
          "output_type": "stream",
          "text": [
            "[nltk_data] Downloading package punkt to /root/nltk_data...\n",
            "[nltk_data]   Unzipping tokenizers/punkt.zip.\n",
            "[nltk_data] Downloading package stopwords to /root/nltk_data...\n",
            "[nltk_data]   Unzipping corpora/stopwords.zip.\n"
          ],
          "name": "stdout"
        },
        {
          "output_type": "execute_result",
          "data": {
            "text/plain": [
              "True"
            ]
          },
          "metadata": {
            "tags": []
          },
          "execution_count": 2
        }
      ]
    },
    {
      "cell_type": "code",
      "metadata": {
        "id": "xmSJ_Pa7tF9G"
      },
      "source": [
        "from gensim.models import Word2Vec\n",
        "from nltk.corpus import stopwords"
      ],
      "execution_count": 3,
      "outputs": []
    },
    {
      "cell_type": "code",
      "metadata": {
        "id": "nHe8kjMKtTdN"
      },
      "source": [
        "import re"
      ],
      "execution_count": 4,
      "outputs": []
    },
    {
      "cell_type": "code",
      "metadata": {
        "id": "jdpLsnNCtWSt"
      },
      "source": [
        "paragraph = \"\"\"I have three visions for India. In 3000 years of our history, people from all over \n",
        "               the world have come and invaded us, captured our lands, conquered our minds. \n",
        "               From Alexander onwards, the Greeks, the Turks, the Moguls, the Portuguese, the British,\n",
        "               the French, the Dutch, all of them came and looted us, took over what was ours. \n",
        "               Yet we have not done this to any other nation. We have not conquered anyone. \n",
        "               We have not grabbed their land, their culture, \n",
        "               their history and tried to enforce our way of life on them. \n",
        "               Why? Because we respect the freedom of others.That is why my \n",
        "               first vision is that of freedom. I believe that India got its first vision of \n",
        "               this in 1857, when we started the War of Independence. It is this freedom that\n",
        "               we must protect and nurture and build on. If we are not free, no one will respect us.\n",
        "               My second vision for India’s development. For fifty years we have been a developing nation.\n",
        "               It is time we see ourselves as a developed nation. We are among the top 5 nations of the world\n",
        "               in terms of GDP. We have a 10 percent growth rate in most areas. Our poverty levels are falling.\n",
        "               Our achievements are being globally recognised today. Yet we lack the self-confidence to\n",
        "               see ourselves as a developed nation, self-reliant and self-assured. Isn’t this incorrect?\n",
        "               I have a third vision. India must stand up to the world. Because I believe that unless India \n",
        "               stands up to the world, no one will respect us. Only strength respects strength. We must be \n",
        "               strong not only as a military power but also as an economic power. Both must go hand-in-hand. \n",
        "               My good fortune was to have worked with three great minds. Dr. Vikram Sarabhai of the Dept. of \n",
        "               space, Professor Satish Dhawan, who succeeded him and Dr. Brahm Prakash, father of nuclear material.\n",
        "               I was lucky to have worked with all three of them closely and consider this the great opportunity of my life. \n",
        "               I see four milestones in my career\"\"\"\n"
      ],
      "execution_count": 5,
      "outputs": []
    },
    {
      "cell_type": "code",
      "metadata": {
        "id": "xmf9NZvYtY7N"
      },
      "source": [
        "# Preprocessing the data\n",
        "text = re.sub(r'\\[[0-9]*\\]',' ',paragraph)\n",
        "text = re.sub(r'\\s+',' ',text)\n",
        "text = text.lower()\n",
        "text = re.sub(r'\\d',' ',text)\n",
        "text = re.sub(r'\\s+',' ',text)"
      ],
      "execution_count": 7,
      "outputs": []
    },
    {
      "cell_type": "code",
      "metadata": {
        "colab": {
          "base_uri": "https://localhost:8080/"
        },
        "id": "3ROk5CIwtcZF",
        "outputId": "d0eec4b1-26b4-467e-e2de-1d2f70fc2e71"
      },
      "source": [
        "# Preparing the dataset\n",
        "sentences = nltk.sent_tokenize(text)\n",
        "\n",
        "sentences = [nltk.word_tokenize(sentence) for sentence in sentences]\n",
        "\n",
        "for i in range(len(sentences)):\n",
        "    sentences[i] = [word for word in sentences[i] if word not in stopwords.words('english')]\n",
        "print(sentences)"
      ],
      "execution_count": 13,
      "outputs": [
        {
          "output_type": "stream",
          "text": [
            "[['three', 'visions', 'india', '.'], ['years', 'history', ',', 'people', 'world', 'come', 'invaded', 'us', ',', 'captured', 'lands', ',', 'conquered', 'minds', '.'], ['alexander', 'onwards', ',', 'greeks', ',', 'turks', ',', 'moguls', ',', 'portuguese', ',', 'british', ',', 'french', ',', 'dutch', ',', 'came', 'looted', 'us', ',', 'took', '.'], ['yet', 'done', 'nation', '.'], ['conquered', 'anyone', '.'], ['grabbed', 'land', ',', 'culture', ',', 'history', 'tried', 'enforce', 'way', 'life', '.'], ['?'], ['respect', 'freedom', 'others.that', 'first', 'vision', 'freedom', '.'], ['believe', 'india', 'got', 'first', 'vision', ',', 'started', 'war', 'independence', '.'], ['freedom', 'must', 'protect', 'nurture', 'build', '.'], ['free', ',', 'one', 'respect', 'us', '.'], ['second', 'vision', 'india', '’', 'development', '.'], ['fifty', 'years', 'developing', 'nation', '.'], ['time', 'see', 'developed', 'nation', '.'], ['among', 'top', 'nations', 'world', 'terms', 'gdp', '.'], ['percent', 'growth', 'rate', 'areas', '.'], ['poverty', 'levels', 'falling', '.'], ['achievements', 'globally', 'recognised', 'today', '.'], ['yet', 'lack', 'self-confidence', 'see', 'developed', 'nation', ',', 'self-reliant', 'self-assured', '.'], ['’', 'incorrect', '?'], ['third', 'vision', '.'], ['india', 'must', 'stand', 'world', '.'], ['believe', 'unless', 'india', 'stands', 'world', ',', 'one', 'respect', 'us', '.'], ['strength', 'respects', 'strength', '.'], ['must', 'strong', 'military', 'power', 'also', 'economic', 'power', '.'], ['must', 'go', 'hand-in-hand', '.'], ['good', 'fortune', 'worked', 'three', 'great', 'minds', '.'], ['dr.', 'vikram', 'sarabhai', 'dept', '.'], ['space', ',', 'professor', 'satish', 'dhawan', ',', 'succeeded', 'dr.', 'brahm', 'prakash', ',', 'father', 'nuclear', 'material', '.'], ['lucky', 'worked', 'three', 'closely', 'consider', 'great', 'opportunity', 'life', '.'], ['see', 'four', 'milestones', 'career']]\n"
          ],
          "name": "stdout"
        }
      ]
    },
    {
      "cell_type": "code",
      "metadata": {
        "colab": {
          "base_uri": "https://localhost:8080/"
        },
        "id": "WLwTrMUBuDY1",
        "outputId": "72d17087-f816-43a1-9f2b-7625c0e435da"
      },
      "source": [
        "# Training the Word2Vec model\n",
        "model = Word2Vec(sentences, min_count=1)\n",
        "print(model)"
      ],
      "execution_count": 12,
      "outputs": [
        {
          "output_type": "stream",
          "text": [
            "Word2Vec(vocab=123, size=100, alpha=0.025)\n"
          ],
          "name": "stdout"
        }
      ]
    },
    {
      "cell_type": "code",
      "metadata": {
        "colab": {
          "base_uri": "https://localhost:8080/"
        },
        "id": "frEZEVdSuFWN",
        "outputId": "ec2a32ca-09e0-41dd-b6b4-1161f107f2e2"
      },
      "source": [
        "words = model.wv.vocab\n",
        "print(words)"
      ],
      "execution_count": 11,
      "outputs": [
        {
          "output_type": "stream",
          "text": [
            "{'three': <gensim.models.keyedvectors.Vocab object at 0x7fc74d8463c8>, 'visions': <gensim.models.keyedvectors.Vocab object at 0x7fc76f7742e8>, 'india': <gensim.models.keyedvectors.Vocab object at 0x7fc76f774358>, '.': <gensim.models.keyedvectors.Vocab object at 0x7fc75005a940>, 'years': <gensim.models.keyedvectors.Vocab object at 0x7fc75005ab00>, 'history': <gensim.models.keyedvectors.Vocab object at 0x7fc75005aac8>, ',': <gensim.models.keyedvectors.Vocab object at 0x7fc75005aa58>, 'people': <gensim.models.keyedvectors.Vocab object at 0x7fc75005ab38>, 'world': <gensim.models.keyedvectors.Vocab object at 0x7fc75005a9b0>, 'come': <gensim.models.keyedvectors.Vocab object at 0x7fc75005af28>, 'invaded': <gensim.models.keyedvectors.Vocab object at 0x7fc75005aba8>, 'us': <gensim.models.keyedvectors.Vocab object at 0x7fc75005add8>, 'captured': <gensim.models.keyedvectors.Vocab object at 0x7fc75005ae80>, 'lands': <gensim.models.keyedvectors.Vocab object at 0x7fc75005aeb8>, 'conquered': <gensim.models.keyedvectors.Vocab object at 0x7fc75005aef0>, 'minds': <gensim.models.keyedvectors.Vocab object at 0x7fc75005af60>, 'alexander': <gensim.models.keyedvectors.Vocab object at 0x7fc75005afd0>, 'onwards': <gensim.models.keyedvectors.Vocab object at 0x7fc75005af98>, 'greeks': <gensim.models.keyedvectors.Vocab object at 0x7fc75005abe0>, 'turks': <gensim.models.keyedvectors.Vocab object at 0x7fc75005ac18>, 'moguls': <gensim.models.keyedvectors.Vocab object at 0x7fc74d1f9630>, 'portuguese': <gensim.models.keyedvectors.Vocab object at 0x7fc74d1f9710>, 'british': <gensim.models.keyedvectors.Vocab object at 0x7fc74d1f90f0>, 'french': <gensim.models.keyedvectors.Vocab object at 0x7fc74d1f9208>, 'dutch': <gensim.models.keyedvectors.Vocab object at 0x7fc74d1f9748>, 'came': <gensim.models.keyedvectors.Vocab object at 0x7fc74d1f9668>, 'looted': <gensim.models.keyedvectors.Vocab object at 0x7fc74d1f96a0>, 'took': <gensim.models.keyedvectors.Vocab object at 0x7fc74d1f9780>, 'yet': <gensim.models.keyedvectors.Vocab object at 0x7fc74d1f9940>, 'done': <gensim.models.keyedvectors.Vocab object at 0x7fc74d1f9e10>, 'nation': <gensim.models.keyedvectors.Vocab object at 0x7fc74d1f9978>, 'anyone': <gensim.models.keyedvectors.Vocab object at 0x7fc74d1f99e8>, 'grabbed': <gensim.models.keyedvectors.Vocab object at 0x7fc74d1f9828>, 'land': <gensim.models.keyedvectors.Vocab object at 0x7fc74d1f9eb8>, 'culture': <gensim.models.keyedvectors.Vocab object at 0x7fc74d1f9ef0>, 'tried': <gensim.models.keyedvectors.Vocab object at 0x7fc74d1f9f28>, 'enforce': <gensim.models.keyedvectors.Vocab object at 0x7fc74d1f9ac8>, 'way': <gensim.models.keyedvectors.Vocab object at 0x7fc74d332470>, 'life': <gensim.models.keyedvectors.Vocab object at 0x7fc74d332390>, '?': <gensim.models.keyedvectors.Vocab object at 0x7fc74d3324a8>, 'respect': <gensim.models.keyedvectors.Vocab object at 0x7fc74d332400>, 'freedom': <gensim.models.keyedvectors.Vocab object at 0x7fc74d332358>, 'others.that': <gensim.models.keyedvectors.Vocab object at 0x7fc74d3323c8>, 'first': <gensim.models.keyedvectors.Vocab object at 0x7fc74d3325c0>, 'vision': <gensim.models.keyedvectors.Vocab object at 0x7fc74d332550>, 'believe': <gensim.models.keyedvectors.Vocab object at 0x7fc74d332828>, 'got': <gensim.models.keyedvectors.Vocab object at 0x7fc74d332710>, 'started': <gensim.models.keyedvectors.Vocab object at 0x7fc74d332a20>, 'war': <gensim.models.keyedvectors.Vocab object at 0x7fc74d332940>, 'independence': <gensim.models.keyedvectors.Vocab object at 0x7fc74d3328d0>, 'must': <gensim.models.keyedvectors.Vocab object at 0x7fc74d3329e8>, 'protect': <gensim.models.keyedvectors.Vocab object at 0x7fc74d332860>, 'nurture': <gensim.models.keyedvectors.Vocab object at 0x7fc74d3329b0>, 'build': <gensim.models.keyedvectors.Vocab object at 0x7fc74d332898>, 'free': <gensim.models.keyedvectors.Vocab object at 0x7fc74d3327b8>, 'one': <gensim.models.keyedvectors.Vocab object at 0x7fc74d332908>, 'second': <gensim.models.keyedvectors.Vocab object at 0x7fc74d332780>, '’': <gensim.models.keyedvectors.Vocab object at 0x7fc74d3326a0>, 'development': <gensim.models.keyedvectors.Vocab object at 0x7fc74d3326d8>, 'fifty': <gensim.models.keyedvectors.Vocab object at 0x7fc74d3327f0>, 'developing': <gensim.models.keyedvectors.Vocab object at 0x7fc74d3325f8>, 'time': <gensim.models.keyedvectors.Vocab object at 0x7fc74d332748>, 'see': <gensim.models.keyedvectors.Vocab object at 0x7fc74d332518>, 'developed': <gensim.models.keyedvectors.Vocab object at 0x7fc74d332630>, 'among': <gensim.models.keyedvectors.Vocab object at 0x7fc74d332668>, 'top': <gensim.models.keyedvectors.Vocab object at 0x7fc74d332438>, 'nations': <gensim.models.keyedvectors.Vocab object at 0x7fc74d332588>, 'terms': <gensim.models.keyedvectors.Vocab object at 0x7fc74d3324e0>, 'gdp': <gensim.models.keyedvectors.Vocab object at 0x7fc74d332978>, 'percent': <gensim.models.keyedvectors.Vocab object at 0x7fc74d332b38>, 'growth': <gensim.models.keyedvectors.Vocab object at 0x7fc74d332a58>, 'rate': <gensim.models.keyedvectors.Vocab object at 0x7fc74d332a90>, 'areas': <gensim.models.keyedvectors.Vocab object at 0x7fc74d1fdb38>, 'poverty': <gensim.models.keyedvectors.Vocab object at 0x7fc74d1fdb70>, 'levels': <gensim.models.keyedvectors.Vocab object at 0x7fc74d1fd7f0>, 'falling': <gensim.models.keyedvectors.Vocab object at 0x7fc74d1fd748>, 'achievements': <gensim.models.keyedvectors.Vocab object at 0x7fc74d1fd780>, 'globally': <gensim.models.keyedvectors.Vocab object at 0x7fc74d1fd828>, 'recognised': <gensim.models.keyedvectors.Vocab object at 0x7fc74d1fd898>, 'today': <gensim.models.keyedvectors.Vocab object at 0x7fc74d1fd8d0>, 'lack': <gensim.models.keyedvectors.Vocab object at 0x7fc74d1fd940>, 'self-confidence': <gensim.models.keyedvectors.Vocab object at 0x7fc74d1fd978>, 'self-reliant': <gensim.models.keyedvectors.Vocab object at 0x7fc74d1fd9b0>, 'self-assured': <gensim.models.keyedvectors.Vocab object at 0x7fc74d1fda20>, 'incorrect': <gensim.models.keyedvectors.Vocab object at 0x7fc74d1fda58>, 'third': <gensim.models.keyedvectors.Vocab object at 0x7fc74d1fd2e8>, 'stand': <gensim.models.keyedvectors.Vocab object at 0x7fc74d1fd4a8>, 'unless': <gensim.models.keyedvectors.Vocab object at 0x7fc74d1fd400>, 'stands': <gensim.models.keyedvectors.Vocab object at 0x7fc74d1fd198>, 'strength': <gensim.models.keyedvectors.Vocab object at 0x7fc74d1fdc50>, 'respects': <gensim.models.keyedvectors.Vocab object at 0x7fc74d1fdfd0>, 'strong': <gensim.models.keyedvectors.Vocab object at 0x7fc74d1fdf28>, 'military': <gensim.models.keyedvectors.Vocab object at 0x7fc74d1fdf60>, 'power': <gensim.models.keyedvectors.Vocab object at 0x7fc74d1fdf98>, 'also': <gensim.models.keyedvectors.Vocab object at 0x7fc74d1fd080>, 'economic': <gensim.models.keyedvectors.Vocab object at 0x7fc74d1fd3c8>, 'go': <gensim.models.keyedvectors.Vocab object at 0x7fc74d1fd128>, 'hand-in-hand': <gensim.models.keyedvectors.Vocab object at 0x7fc74d1fd160>, 'good': <gensim.models.keyedvectors.Vocab object at 0x7fc74d1fd550>, 'fortune': <gensim.models.keyedvectors.Vocab object at 0x7fc74d1fd518>, 'worked': <gensim.models.keyedvectors.Vocab object at 0x7fc74d1fd668>, 'great': <gensim.models.keyedvectors.Vocab object at 0x7fc74d1fd208>, 'dr.': <gensim.models.keyedvectors.Vocab object at 0x7fc74d1fd6d8>, 'vikram': <gensim.models.keyedvectors.Vocab object at 0x7fc74d1fa358>, 'sarabhai': <gensim.models.keyedvectors.Vocab object at 0x7fc74d1fa5c0>, 'dept': <gensim.models.keyedvectors.Vocab object at 0x7fc74d1fae80>, 'space': <gensim.models.keyedvectors.Vocab object at 0x7fc74d1fa4a8>, 'professor': <gensim.models.keyedvectors.Vocab object at 0x7fc74d1fa780>, 'satish': <gensim.models.keyedvectors.Vocab object at 0x7fc74d1faa58>, 'dhawan': <gensim.models.keyedvectors.Vocab object at 0x7fc74d1fa7f0>, 'succeeded': <gensim.models.keyedvectors.Vocab object at 0x7fc74d1fab70>, 'brahm': <gensim.models.keyedvectors.Vocab object at 0x7fc74d1fa9b0>, 'prakash': <gensim.models.keyedvectors.Vocab object at 0x7fc74d1fa898>, 'father': <gensim.models.keyedvectors.Vocab object at 0x7fc74d1fac50>, 'nuclear': <gensim.models.keyedvectors.Vocab object at 0x7fc74d1fad68>, 'material': <gensim.models.keyedvectors.Vocab object at 0x7fc74d1fadd8>, 'lucky': <gensim.models.keyedvectors.Vocab object at 0x7fc74d1faf28>, 'closely': <gensim.models.keyedvectors.Vocab object at 0x7fc74d1faf60>, 'consider': <gensim.models.keyedvectors.Vocab object at 0x7fc74d1fafd0>, 'opportunity': <gensim.models.keyedvectors.Vocab object at 0x7fc74d1faac8>, 'four': <gensim.models.keyedvectors.Vocab object at 0x7fc74d1fac88>, 'milestones': <gensim.models.keyedvectors.Vocab object at 0x7fc74d1facf8>, 'career': <gensim.models.keyedvectors.Vocab object at 0x7fc74d1fae10>}\n"
          ],
          "name": "stdout"
        }
      ]
    },
    {
      "cell_type": "code",
      "metadata": {
        "colab": {
          "base_uri": "https://localhost:8080/"
        },
        "id": "cCTm7QADuH81",
        "outputId": "02e40a4a-5c85-4c01-f3fd-ded0d58a83a7"
      },
      "source": [
        "# Finding Word Vectors\n",
        "vector = model.wv['war']\n",
        "print(vector)"
      ],
      "execution_count": 25,
      "outputs": [
        {
          "output_type": "stream",
          "text": [
            "[ 0.00027569  0.00276687  0.00329763 -0.00349342 -0.00489479  0.00377253\n",
            "  0.00221413 -0.00472325  0.00034644  0.00393012 -0.00187923  0.00081854\n",
            " -0.00123773  0.00234545 -0.00275751  0.00204973 -0.00174232 -0.00470695\n",
            " -0.00190065  0.00359829 -0.00411233 -0.0007702  -0.00114088 -0.00299076\n",
            " -0.00050332 -0.00252745  0.00229886  0.00379485 -0.00046716  0.00159177\n",
            " -0.00306978 -0.00467242  0.00482891 -0.004136    0.0036269   0.00230111\n",
            " -0.00125878 -0.00097892  0.00326991  0.00443796  0.00440633  0.00162026\n",
            "  0.00148777 -0.00252823  0.00390291  0.00113832  0.00089151  0.0037912\n",
            " -0.00379844  0.00447763 -0.00375175 -0.00419935  0.00041556  0.00040635\n",
            "  0.00467948  0.00316592 -0.0035333   0.00381163  0.00166354  0.00148595\n",
            " -0.00139181  0.00166844  0.00306253 -0.00186929 -0.00401531 -0.00394082\n",
            "  0.00267495  0.00389295  0.00343581  0.00297775  0.00332478 -0.00396207\n",
            "  0.00202844 -0.00300703  0.0016388   0.00404113 -0.00091997 -0.00483029\n",
            "  0.00073097 -0.00363467  0.00179102  0.00378831  0.00479117  0.003454\n",
            "  0.00355443  0.00320426  0.00165276 -0.00197171 -0.00258891 -0.00202832\n",
            " -0.00363141  0.00205124 -0.00165862  0.0032881  -0.00178152 -0.00495596\n",
            "  0.00366269  0.00179328  0.00181489  0.00359216]\n"
          ],
          "name": "stdout"
        }
      ]
    },
    {
      "cell_type": "code",
      "metadata": {
        "colab": {
          "base_uri": "https://localhost:8080/"
        },
        "id": "plynciZTuLA-",
        "outputId": "88572db8-1db2-46f4-b470-82d28a55a24d"
      },
      "source": [
        "# Most similar words\n",
        "similar = model.wv.most_similar('vikram')\n",
        "print(similar)"
      ],
      "execution_count": 24,
      "outputs": [
        {
          "output_type": "stream",
          "text": [
            "[('terms', 0.21818357706069946), ('recognised', 0.16257983446121216), ('falling', 0.15248507261276245), ('french', 0.14040318131446838), ('milestones', 0.13533800840377808), ('enforce', 0.12399271875619888), ('yet', 0.12308372557163239), ('anyone', 0.11898884922266006), ('dept', 0.11034668236970901), ('development', 0.10824500024318695)]\n"
          ],
          "name": "stdout"
        },
        {
          "output_type": "stream",
          "text": [
            "/usr/local/lib/python3.6/dist-packages/gensim/matutils.py:737: FutureWarning: Conversion of the second argument of issubdtype from `int` to `np.signedinteger` is deprecated. In future, it will be treated as `np.int64 == np.dtype(int).type`.\n",
            "  if np.issubdtype(vec.dtype, np.int):\n"
          ],
          "name": "stderr"
        }
      ]
    }
  ]
}